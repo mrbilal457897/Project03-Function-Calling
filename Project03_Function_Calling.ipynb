{
  "nbformat": 4,
  "nbformat_minor": 0,
  "metadata": {
    "colab": {
      "provenance": [],
      "authorship_tag": "ABX9TyMPfRUfwjoOPNoF0iOrcwsV",
      "include_colab_link": true
    },
    "kernelspec": {
      "name": "python3",
      "display_name": "Python 3"
    },
    "language_info": {
      "name": "python"
    }
  },
  "cells": [
    {
      "cell_type": "markdown",
      "metadata": {
        "id": "view-in-github",
        "colab_type": "text"
      },
      "source": [
        "<a href=\"https://colab.research.google.com/github/mrbilal457897/Project03-Function-Calling/blob/main/Project03_Function_Calling.ipynb\" target=\"_parent\"><img src=\"https://colab.research.google.com/assets/colab-badge.svg\" alt=\"Open In Colab\"/></a>"
      ]
    },
    {
      "cell_type": "code",
      "execution_count": null,
      "metadata": {
        "id": "sHbrqXX7P74a"
      },
      "outputs": [],
      "source": [
        "!pip install -U -q \"google-generativeai>=0.8.0\""
      ]
    },
    {
      "cell_type": "code",
      "source": [
        "from google.colab import userdata\n",
        "import google.generativeai as genai\n",
        "import os\n",
        "\n",
        "os.environ[\"GOOGLE_API_KEY\"] = userdata.get(\"GOOGLE_API_KEY\")\n",
        "genai.configure(api_key=userdata.get(\"GOOGLE_API_KEY\"))\n",
        "\n",
        "google_api = os.environ.get(\"GOOGLE_API_KEY\")\n",
        "\n"
      ],
      "metadata": {
        "id": "F5ygdM0kRqLy"
      },
      "execution_count": null,
      "outputs": []
    },
    {
      "cell_type": "code",
      "source": [
        "from random import randint\n",
        "import random\n",
        "\n",
        "\n",
        "students_data = {\n",
        "    224455: {\n",
        "        \"name\": \"Bilal\",\n",
        "        \"course\": \"Agentic AI & Web Developer\",\n",
        "        \"year\": 2024,\n",
        "        \"marks\": random.randint(80, 100)\n",
        "    },\n",
        "    224456: {\n",
        "        \"name\": \"Mustafa\",\n",
        "        \"course\": \"Web Developer\",\n",
        "        \"year\": 2023,\n",
        "        \"marks\": random.randint(80, 100)\n",
        "    },\n",
        "    224457: {\n",
        "        \"name\": \"Ahmed\",\n",
        "        \"course\": \"Web Development\",\n",
        "        \"year\": 2025,\n",
        "        \"marks\": random.randint(80, 100)\n",
        "    },\n",
        "    224458: {\n",
        "        \"name\": \"Ali\",\n",
        "        \"course\": \"AI\",\n",
        "        \"year\": 2023,\n",
        "        \"marks\": random.randint(80, 100)\n",
        "    }\n",
        "}\n",
        "\n",
        "\n"
      ],
      "metadata": {
        "id": "vWPq4sz1R43N"
      },
      "execution_count": null,
      "outputs": []
    },
    {
      "cell_type": "code",
      "source": [
        "rollnumbers = [224455, 224456, 224457, 224458]\n",
        "rollno = random.choice(rollnumbers)\n",
        "\n",
        "def get_student_data(rollno: int):\n",
        "    \"\"\"\n",
        "    Get student data for a specific roll number.\n",
        "\n",
        "    Args:\n",
        "        rollno (int): The roll number of the student.\n",
        "\n",
        "    Returns:\n",
        "        str: A string containing the student data if found, otherwise \"Student not found.\"\n",
        "    \"\"\"\n",
        "    student = students_data.get(rollno)\n",
        "    if student:\n",
        "        print (\n",
        "            f\"Name: {student['name']}, \"\n",
        "            f\"Course: {student['course']}, \"\n",
        "            f\"Year: {student['year']}, \"\n",
        "            f\"Marks: {student['marks']}\"\n",
        "        )\n",
        "    else:\n",
        "        return \"Student not found.\"\n",
        "\n",
        "student_fns = [get_student_data]"
      ],
      "metadata": {
        "id": "G9y5Axxo9qqZ"
      },
      "execution_count": null,
      "outputs": []
    },
    {
      "cell_type": "code",
      "source": [
        "print(get_student_data(224456))"
      ],
      "metadata": {
        "colab": {
          "base_uri": "https://localhost:8080/"
        },
        "id": "GVh0suEcQ7Ea",
        "outputId": "5184f891-0ded-412a-b6bb-1c76290aff45"
      },
      "execution_count": null,
      "outputs": [
        {
          "output_type": "stream",
          "name": "stdout",
          "text": [
            "Name: Mustafa, Course: Web Developer, Year: 2023, Marks: 86\n",
            "None\n"
          ]
        }
      ]
    },
    {
      "cell_type": "code",
      "source": [
        "instruction = \"You are a helpful teacher. You can analysis and get students data by its roll numbers and by its ability, and you can give marks to given students randomly. Do not perform any other tasks.\"\n",
        "\n",
        "model = genai.GenerativeModel(\n",
        "    \"gemini-1.5-flash\", tools=student_fns, system_instruction=instruction\n",
        ")\n",
        "\n",
        "chat = model.start_chat()"
      ],
      "metadata": {
        "id": "_JuznDLY_XNO"
      },
      "execution_count": null,
      "outputs": []
    },
    {
      "cell_type": "code",
      "source": [
        "from google.generativeai.types import content_types\n",
        "from collections.abc import Iterable\n",
        "\n",
        "import google.generativeai as genai # Added this import for genai\n",
        "\n",
        "\n",
        "def tool_config_from_mode(mode: str, fns: Iterable[str] = ()):\n",
        "    \"\"\"Create a tool config with the specified function calling mode.\"\"\"\n",
        "    return content_types.to_tool_config(\n",
        "        {\"function_calling_config\": {\"mode\": mode, \"allowed_function_names\": fns}}\n",
        "    )"
      ],
      "metadata": {
        "id": "ZWie9yflAQFT"
      },
      "execution_count": null,
      "outputs": []
    },
    {
      "cell_type": "code",
      "source": [
        "chat = model.start_chat()\n",
        "tool_config = tool_config_from_mode(\"none\")\n",
        "\n",
        "response = chat.send_message(\n",
        "    \"Hello Assistant, what can you do?\", tool_config=tool_config\n",
        ")\n",
        "print(response.text)"
      ],
      "metadata": {
        "colab": {
          "base_uri": "https://localhost:8080/",
          "height": 72
        },
        "collapsed": true,
        "id": "nPnFKv1pAAak",
        "outputId": "0cdb8154-dacf-4c00-ae96-c6cca695d3e7"
      },
      "execution_count": null,
      "outputs": [
        {
          "output_type": "stream",
          "name": "stdout",
          "text": [
            "Hello!  I can help you analyze student data based on their roll numbers and abilities.  I can also assign random marks to students.  That's it. I can't perform any other tasks beyond those specific functions.\n",
            "\n"
          ]
        }
      ]
    },
    {
      "cell_type": "code",
      "source": [
        "print(get_student_data(224456))"
      ],
      "metadata": {
        "colab": {
          "base_uri": "https://localhost:8080/"
        },
        "id": "lD5A1-JLOBKB",
        "outputId": "29213536-c968-4100-e284-ccee10b1caba"
      },
      "execution_count": null,
      "outputs": [
        {
          "output_type": "stream",
          "name": "stdout",
          "text": [
            "Name: Mustafa, Course: Web Developer, Year: 2023, Marks: 86\n",
            "None\n"
          ]
        }
      ]
    },
    {
      "cell_type": "code",
      "source": [
        "tool_config = tool_config_from_mode(\"auto\")\n",
        "\n",
        "response = chat.send_message(\"Get student data with roll number 224456\", tool_config=tool_config)\n",
        "print(response.parts[0])\n",
        "chat.rewind()"
      ],
      "metadata": {
        "colab": {
          "base_uri": "https://localhost:8080/",
          "height": 538
        },
        "collapsed": true,
        "id": "nE8TanKNF0CH",
        "outputId": "73e30309-dc57-44cd-97e2-47ba1f75ee2b"
      },
      "execution_count": null,
      "outputs": [
        {
          "output_type": "stream",
          "name": "stdout",
          "text": [
            "function_call {\n",
            "  name: \"get_student_data\"\n",
            "  args {\n",
            "    fields {\n",
            "      key: \"rollno\"\n",
            "      value {\n",
            "        number_value: 224456\n",
            "      }\n",
            "    }\n",
            "  }\n",
            "}\n",
            "\n"
          ]
        },
        {
          "output_type": "execute_result",
          "data": {
            "text/plain": [
              "(parts {\n",
              "   text: \"Get student data with roll number 224456\"\n",
              " }\n",
              " role: \"user\",\n",
              " parts {\n",
              "   function_call {\n",
              "     name: \"get_student_data\"\n",
              "     args {\n",
              "       fields {\n",
              "         key: \"rollno\"\n",
              "         value {\n",
              "           number_value: 224456\n",
              "         }\n",
              "       }\n",
              "     }\n",
              "   }\n",
              " }\n",
              " role: \"model\")"
            ]
          },
          "metadata": {},
          "execution_count": 282
        }
      ]
    }
  ]
}